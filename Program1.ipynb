{
  "nbformat": 4,
  "nbformat_minor": 0,
  "metadata": {
    "colab": {
      "name": "Untitled",
      "provenance": []
    },
    "kernelspec": {
      "name": "python3",
      "display_name": "Python 3"
    },
    "language_info": {
      "name": "python"
    }
  },
  "cells": [
    {
      "cell_type": "code",
      "source": [
        "a=[115.3,195.5,120.5,110.2,90.4,105.6,110.9,116.3,122.3,125.4]\n",
        "mean=sum(a)/len(a)\n",
        "print(mean)"
      ],
      "metadata": {
        "id": "M-vVpt9dKEtn",
        "outputId": "5dc8100c-fffa-46fa-e3e1-ae0544f52882",
        "colab": {
          "base_uri": "https://localhost:8080/"
        }
      },
      "execution_count": 1,
      "outputs": [
        {
          "output_type": "stream",
          "name": "stdout",
          "text": [
            "121.24000000000001\n"
          ]
        }
      ]
    },
    {
      "cell_type": "code",
      "source": [
        "a.sort()\n",
        "if len(a)%2==0:\n",
        "  med1=a[len(a)//2]\n",
        "  med2=a[(len(a)//2)-1]\n",
        "  median=(med1+med2)/2\n",
        "else:\n",
        "  median=a[len(a)//2]\n",
        "print(median)"
      ],
      "metadata": {
        "id": "GZeSKgYr-sQQ",
        "outputId": "9eb742ab-0b70-41ab-86a8-bff936309474",
        "colab": {
          "base_uri": "https://localhost:8080/"
        }
      },
      "execution_count": 6,
      "outputs": [
        {
          "output_type": "stream",
          "name": "stdout",
          "text": [
            "115.8\n"
          ]
        }
      ]
    },
    {
      "cell_type": "code",
      "source": [
        "#variance\n",
        "n=len(a)\n",
        "sum=0\n",
        "for i in a:\n",
        "  sum+=(i-mean)**2\n",
        "  variance=sum/(n-1)\n",
        "print(variance)\n",
        "sd=variance**(1/2)\n",
        "print(sd)"
      ],
      "metadata": {
        "id": "DwGbrqAS_sgn",
        "outputId": "feced5d5-e8df-410f-fa58-365f6ffd30c6",
        "colab": {
          "base_uri": "https://localhost:8080/"
        }
      },
      "execution_count": 8,
      "outputs": [
        {
          "output_type": "stream",
          "name": "stdout",
          "text": [
            "779.7471111111112\n",
            "27.923952283140565\n"
          ]
        }
      ]
    },
    {
      "cell_type": "code",
      "source": [
        "#min-max normalization\n",
        "xmin=min(a)\n",
        "xmax=max(a)\n",
        "print(\"Value: Normalized Value\")\n",
        "for i in a:\n",
        "  norm=(i-xmin)/(xmax-xmin)\n",
        "  print(\"{}:{}\".format(i,norm))"
      ],
      "metadata": {
        "id": "9cX2Xg_JBYjb",
        "outputId": "20374b57-ee43-43a2-be1a-4cf8bad281e8",
        "colab": {
          "base_uri": "https://localhost:8080/"
        }
      },
      "execution_count": 9,
      "outputs": [
        {
          "output_type": "stream",
          "name": "stdout",
          "text": [
            "Value: Normalized Value\n",
            "90.4:0.0\n",
            "105.6:0.14462416745956222\n",
            "110.2:0.18839200761179828\n",
            "110.9:0.1950523311132255\n",
            "115.3:0.23691722169362506\n",
            "116.3:0.24643196955280677\n",
            "120.5:0.2863939105613701\n",
            "122.3:0.3035204567078972\n",
            "125.4:0.3330161750713606\n",
            "195.5:1.0\n"
          ]
        }
      ]
    },
    {
      "cell_type": "code",
      "source": [
        "#Standardization\n",
        "for i in a:\n",
        "  s=(i-mean)/sd\n",
        "  print(\"{}:{}\".format(i,s))"
      ],
      "metadata": {
        "id": "VqfQ4HplCmaM",
        "outputId": "36b88475-361a-43ad-f1e3-0a0fa530896a",
        "colab": {
          "base_uri": "https://localhost:8080/"
        }
      },
      "execution_count": 10,
      "outputs": [
        {
          "output_type": "stream",
          "name": "stdout",
          "text": [
            "90.4:-1.1044281872168948\n",
            "105.6:-0.5600926345029912\n",
            "110.2:-0.39535950670799364\n",
            "110.9:-0.37029142204353743\n",
            "115.3:-0.2127206041526708\n",
            "116.3:-0.17690905463201922\n",
            "120.5:-0.026500546645282494\n",
            "122.3:0.03796024249189024\n",
            "125.4:0.14897604600591044\n",
            "195.5:2.659365667403586\n"
          ]
        }
      ]
    }
  ]
}
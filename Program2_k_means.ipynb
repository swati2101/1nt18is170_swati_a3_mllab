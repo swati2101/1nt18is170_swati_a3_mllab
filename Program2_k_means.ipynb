{
  "nbformat": 4,
  "nbformat_minor": 0,
  "metadata": {
    "colab": {
      "name": "Program2_k means.ipynb",
      "provenance": []
    },
    "kernelspec": {
      "name": "python3",
      "display_name": "Python 3"
    },
    "language_info": {
      "name": "python"
    }
  },
  "cells": [
    {
      "cell_type": "code",
      "execution_count": 1,
      "metadata": {
        "colab": {
          "base_uri": "https://localhost:8080/"
        },
        "id": "SwqItjC7Ivd7",
        "outputId": "1fc8726c-bd1d-4b7d-b236-eda02046c80a"
      },
      "outputs": [
        {
          "output_type": "execute_result",
          "data": {
            "text/plain": [
              "[[5.9, 3.2],\n",
              " [4.6, 2.9],\n",
              " [6.2, 2.8],\n",
              " [4.7, 3.2],\n",
              " [5.5, 4.2],\n",
              " [5.0, 3.0],\n",
              " [4.9, 3.1],\n",
              " [6.7, 3.1],\n",
              " [5.1, 3.8],\n",
              " [6.0, 3.0]]"
            ]
          },
          "metadata": {},
          "execution_count": 1
        }
      ],
      "source": [
        "X=[[5.9,3.2],[4.6,2.9],[6.2,2.8],[4.7,3.2],[5.5,4.2],[5.0,3.0],[4.9,3.1],[6.7,3.1],[5.1,3.8],[6.0,3.0]]\n",
        "X"
      ]
    },
    {
      "cell_type": "code",
      "source": [
        "centroids=[[6.2,3.2],[6.6,3.7],[6.5,3.0]]\n",
        "clusters={}"
      ],
      "metadata": {
        "id": "DstLqe0UJiI1"
      },
      "execution_count": 19,
      "outputs": []
    },
    {
      "cell_type": "code",
      "source": [
        "def euclidean(x1,x2,y1,y2):\n",
        "    dist = (((x2-x1)**2) + ((y2-y1)**2))**(1/2)\n",
        "    return dist"
      ],
      "metadata": {
        "id": "bGeiGghpJyKA"
      },
      "execution_count": 17,
      "outputs": []
    },
    {
      "cell_type": "code",
      "source": [
        "def k_means(X, centroids,k=3):\n",
        "    \n",
        "    for i in range(k):\n",
        "        clusters[i] = []\n",
        "\n",
        "    for i in range(len(X)):\n",
        "        euc_dist = []\n",
        "\n",
        "        for j in range(k):\n",
        "            euc_dist.append(euclidean( X[i][0], centroids[j][0], X[i][1], centroids[j][1] ))\n",
        "\n",
        "        cent_ind = euc_dist.index(min(euc_dist))\n",
        "        clusters[cent_ind].append(X[i])\n",
        "\n",
        "    return clusters\n"
      ],
      "metadata": {
        "id": "RWBhCjd1KniB"
      },
      "execution_count": 15,
      "outputs": []
    },
    {
      "cell_type": "code",
      "source": [
        ""
      ],
      "metadata": {
        "id": "QAN4FFaxPACG"
      },
      "execution_count": null,
      "outputs": []
    },
    {
      "cell_type": "code",
      "source": [
        "def new_cent(X,centroid,k=3):\n",
        "  for i in range(k):\n",
        "    x_sum=0\n",
        "    y_sum=0\n",
        "    for j in range(len(clusters[i])):\n",
        "      x_sum+=clusters[i][j][0]\n",
        "      y_sum+=clusters[i][j][1]\n",
        "      centroids[i]=[round( (x_sum/len(clusters[i] )),3), round((y_sum/len(clusters[i])),3)]\n",
        "  return centroids\n"
      ],
      "metadata": {
        "id": "sTL6acUASuin"
      },
      "execution_count": 13,
      "outputs": []
    },
    {
      "cell_type": "code",
      "source": [
        "clusters={}\n",
        "for i in range(5):\n",
        "    clusters = k_means(X,centroids,3)\n",
        "    centroids = new_cent(X,centroids,3)\n",
        "    \n",
        "    print(\"\\nCentroids during iteration {}: {}\".format(i+1,centroids))\n",
        "\n",
        "    if i == 0:\n",
        "        print(\"Centre of the 1st cluster after 1 iteration: \", centroids[0])\n",
        "    elif i == 1:\n",
        "        print(\"Centre of the 2nd cluster after 2 iterations: \", centroids[1])\n",
        "\n",
        "\n"
      ],
      "metadata": {
        "colab": {
          "base_uri": "https://localhost:8080/"
        },
        "id": "anQ4__dkT7f4",
        "outputId": "5e241768-9972-4c5b-ea04-457cd50cac68"
      },
      "execution_count": 20,
      "outputs": [
        {
          "output_type": "stream",
          "name": "stdout",
          "text": [
            "\n",
            "Centroids during iteration 1: [[5.171, 3.171], [5.5, 4.2], [6.45, 2.95]]\n",
            "Centre of the 1st cluster after 1 iteration:  [5.171, 3.171]\n",
            "\n",
            "Centroids during iteration 2: [[4.8, 3.05], [5.3, 4.0], [6.2, 3.025]]\n",
            "Centre of the 2nd cluster after 2 iterations:  [5.3, 4.0]\n",
            "\n",
            "Centroids during iteration 3: [[4.8, 3.05], [5.3, 4.0], [6.2, 3.025]]\n",
            "\n",
            "Centroids during iteration 4: [[4.8, 3.05], [5.3, 4.0], [6.2, 3.025]]\n",
            "\n",
            "Centroids during iteration 5: [[4.8, 3.05], [5.3, 4.0], [6.2, 3.025]]\n"
          ]
        }
      ]
    },
    {
      "cell_type": "code",
      "source": [
        "print(\"Centre of the third cluster after it converges: \", centroids[2])"
      ],
      "metadata": {
        "colab": {
          "base_uri": "https://localhost:8080/"
        },
        "id": "8RMzVmG3YsIV",
        "outputId": "9fa53c0e-a97f-4f81-e58e-7b99ee747f2e"
      },
      "execution_count": 21,
      "outputs": [
        {
          "output_type": "stream",
          "name": "stdout",
          "text": [
            "Centre of the third cluster after it converges:  [6.2, 3.025]\n"
          ]
        }
      ]
    }
  ]
}